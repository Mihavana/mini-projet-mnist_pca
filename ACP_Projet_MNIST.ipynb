{
 "cells": [
  {
   "cell_type": "markdown",
   "id": "91a9b106",
   "metadata": {},
   "source": [
    "# 1. Introduction"
   ]
  },
  {
   "cell_type": "markdown",
   "id": "ac64cfe8",
   "metadata": {},
   "source": [
    "L'Analyse en Composantes Principales (ACP), ou PCA en anglais, est une méthode de réduction de dimension basée sur l'algèbre linéaire. Elle permet de projeter des données de grande dimension dans un espace de plus petite dimension tout en conservant un maximum d'information (variance).\n",
    "\n",
    "Mathématiquement, l'ACP repose sur les **vecteurs propres** (directions principales) et **valeurs propres** (variances associées) de la **matrice de covariance** des données centrées. Ces éléments sont issus de la résolution du problème suivant :\n",
    "\n",
    "\\[\n",
    "\\Sigma v = \\lambda v\n",
    "\\]\n",
    "\n",
    "où :\n",
    "- \\( \\Sigma \\) est la matrice de covariance des données centrées,\n",
    "- \\( v \\) est un vecteur propre (axe principal),\n",
    "- \\( \\lambda \\) est la valeur propre associée (variance projetée sur cet axe).\n",
    "\n",
    "L'algèbre linéaire intervient donc à chaque étape : **centrage**, **produits matriciels**, **calculs des valeurs/vecteurs propres**, et **projection** dans un nouvel espace.\n",
    "\n",
    "Dans ce projet, nous appliquons pas à pas l'ACP sur le jeu de données `digits`, uniquement avec NumPy et les outils d'algèbre linéaire.\n",
    "\n"
   ]
  },
  {
   "cell_type": "markdown",
   "id": "650e1c2c",
   "metadata": {},
   "source": [
    "# 2. Chargement, préparation des données "
   ]
  },
  {
   "cell_type": "code",
   "execution_count": 2,
   "id": "c174f000",
   "metadata": {},
   "outputs": [],
   "source": [
    "from sklearn.datasets import load_digits\n",
    "import numpy as np\n",
    "import matplotlib.pyplot as plt"
   ]
  },
  {
   "cell_type": "markdown",
   "id": "db4aeb61",
   "metadata": {},
   "source": [
    "Dans cette étape, nous chargeons le jeu de données `digits` depuis `sklearn.datasets`. Ce jeu contient **1797 images de chiffres manuscrits** (de 0 à 9), chacun représenté par une matrice de **8×8 pixels**, soit **64 pixels** par image.\n",
    "\n",
    "Chaque image est **applatie** sous forme d’un vecteur ligne de 64 valeurs. Ainsi, notre matrice `X` contient :\n",
    "- **1797 lignes** (chaque ligne = une image),\n",
    "- **64 colonnes** (chaque colonne = intensité d’un pixel).\n",
    "\n",
    "Nous stockons aussi les étiquettes associées (0 à 9) dans le vecteur `y`, qui nous permettra plus tard d’afficher les chiffres selon leur vraie classe.\n",
    "\n",
    "Cette structure est essentielle pour appliquer l’algèbre linéaire : la matrice \\( X \\in \\mathbb{R}^{1797 \\times 64} \\) sera utilisée pour calculer la matrice de covariance et effectuer la réduction de dimension via les outils de l’algèbre linéaire."
   ]
  },
  {
   "cell_type": "code",
   "execution_count": null,
   "id": "6b63a8a1",
   "metadata": {},
   "outputs": [],
   "source": [
    "digits = load_digits()\n",
    "X = digits.data  # matrice des pixels (1797, 64)\n",
    "y = digits.target  # étiquettes de 0 à 9  # données (1797,)"
   ]
  },
  {
   "cell_type": "markdown",
   "id": "3afaee03",
   "metadata": {},
   "source": [
    "# 3.  Centrage des données"
   ]
  },
  {
   "cell_type": "code",
   "execution_count": 4,
   "id": "920eea37",
   "metadata": {},
   "outputs": [],
   "source": [
    "# Calcul de la moyenne de chaque colonne\n",
    "mean = np.mean(X, axis=0)\n",
    "\n",
    "# Centrage de X\n",
    "X_centered = X - mean"
   ]
  },
  {
   "cell_type": "markdown",
   "id": "856c5c60",
   "metadata": {},
   "source": [
    "# 4. Calcul de la matrice de covariance"
   ]
  },
  {
   "cell_type": "code",
   "execution_count": null,
   "id": "2ce5f03c",
   "metadata": {},
   "outputs": [],
   "source": [
    "n_samples = X_centered.shape[0]\n",
    "cov_matrix = (1 / (n_samples - 1)) * X_centered.T @ X_centered"
   ]
  },
  {
   "cell_type": "markdown",
   "id": "e1a84f6f",
   "metadata": {},
   "source": [
    "# 5. Calcul des valeurs propres et vecteurs propres"
   ]
  },
  {
   "cell_type": "code",
   "execution_count": null,
   "id": "93a02a99",
   "metadata": {},
   "outputs": [],
   "source": [
    "eig_vals, eig_vecs = np.linalg.eigh(cov_matrix)  # car matrice symétrique\n",
    "\n",
    "# Tri décroissant\n",
    "sorted_idx = np.argsort(eig_vals)[::-1]\n",
    "eig_vals = eig_vals[sorted_idx]\n",
    "eig_vecs = eig_vecs[:, sorted_idx]"
   ]
  },
  {
   "cell_type": "markdown",
   "id": "64e135dd",
   "metadata": {},
   "source": [
    "# 6. Sélection des composantes principales (2D ou 3D)"
   ]
  },
  {
   "cell_type": "markdown",
   "id": "54658a97",
   "metadata": {},
   "source": [
    "# 7. Projection dans l'espace réduit"
   ]
  },
  {
   "cell_type": "markdown",
   "id": "3e64035b",
   "metadata": {},
   "source": [
    "# 8. Visualisation en 2D"
   ]
  },
  {
   "cell_type": "markdown",
   "id": "3eb1008a",
   "metadata": {},
   "source": [
    "# 9. Projection en 3D"
   ]
  },
  {
   "cell_type": "markdown",
   "id": "74b87419",
   "metadata": {},
   "source": [
    "# 10. Explication de la variance expliquée"
   ]
  }
 ],
 "metadata": {
  "kernelspec": {
   "display_name": "base",
   "language": "python",
   "name": "python3"
  },
  "language_info": {
   "codemirror_mode": {
    "name": "ipython",
    "version": 3
   },
   "file_extension": ".py",
   "mimetype": "text/x-python",
   "name": "python",
   "nbconvert_exporter": "python",
   "pygments_lexer": "ipython3",
   "version": "3.12.7"
  }
 },
 "nbformat": 4,
 "nbformat_minor": 5
}
